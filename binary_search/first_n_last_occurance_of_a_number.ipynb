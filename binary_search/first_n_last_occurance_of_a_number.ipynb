{
 "cells": [
  {
   "cell_type": "code",
   "execution_count": 6,
   "metadata": {},
   "outputs": [],
   "source": [
    "from typing import List\n",
    "def first_n_last_occurance_of_a_number(nums:List[int], target: int) -> List[int]:\n",
    "    lower_bound_of_target = lower_bound_binary_search(nums, target)\n",
    "    upper_bound_of_target = upper_bound_binary_search(nums, target)\n",
    "    return [lower_bound_of_target, upper_bound_of_target]\n",
    "\n",
    "\n",
    "def lower_bound_binary_search(nums:List[int], target: int) -> int:\n",
    "    left, right = 0, len(nums) - 1\n",
    "    while left < right:\n",
    "        mid = (left + right) // 2\n",
    "        if nums[mid] > target:\n",
    "            right = mid - 1\n",
    "        else:\n",
    "            left = mid + 1\n",
    "    return left if nums and nums[left] == target else -1\n",
    "\n",
    "def upper_bound_binary_search(nums:List[int], target: int) -> int:\n",
    "    left, right = 0, len(nums) - 1\n",
    "    while left < right:\n",
    "        mid = (left + right) // 2 + 1\n",
    "        if nums[mid] > target:\n",
    "            right = mid - 1\n",
    "        elif nums[mid] < target:\n",
    "            left = mid + 1\n",
    "        else:\n",
    "            left = mid\n",
    "    return right if nums and nums[left] == target else -1"
   ]
  },
  {
   "cell_type": "code",
   "execution_count": 7,
   "metadata": {},
   "outputs": [
    {
     "name": "stdout",
     "output_type": "stream",
     "text": [
      "False\n",
      "True\n",
      "False\n",
      "True\n"
     ]
    }
   ],
   "source": [
    "# 5 tests with random numbers\n",
    "print(first_n_last_occurance_of_a_number([5,7,7,8,8,10], 8) == [3, 4])\n",
    "print(first_n_last_occurance_of_a_number([5,7,7,8,8,10], 6) == [-1, -1])\n",
    "print(first_n_last_occurance_of_a_number([5,7,7,8,8,10], 5) == [0, 0])\n",
    "print(first_n_last_occurance_of_a_number([5,7,7,8,8,10], 10) == [5, 5])"
   ]
  },
  {
   "cell_type": "code",
   "execution_count": null,
   "metadata": {},
   "outputs": [],
   "source": []
  }
 ],
 "metadata": {
  "kernelspec": {
   "display_name": ".venv",
   "language": "python",
   "name": "python3"
  },
  "language_info": {
   "codemirror_mode": {
    "name": "ipython",
    "version": 3
   },
   "file_extension": ".py",
   "mimetype": "text/x-python",
   "name": "python",
   "nbconvert_exporter": "python",
   "pygments_lexer": "ipython3",
   "version": "3.13.1"
  }
 },
 "nbformat": 4,
 "nbformat_minor": 2
}
