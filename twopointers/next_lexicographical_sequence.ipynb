{
 "cells": [
  {
   "cell_type": "code",
   "execution_count": 24,
   "metadata": {},
   "outputs": [],
   "source": [
    "def next_lexicographical_sequence(s:str) -> str:\n",
    "    letters = list(s)\n",
    "    print(f\"letters : {letters}\")\n",
    "    pivot = len(letters) - 2\n",
    "    while pivot >= 0 and letters[pivot] >= letters[pivot + 1]:\n",
    "        pivot -= 1\n",
    "    if pivot == -1:\n",
    "        return \"\".join(reversed(letters))\n",
    "    \n",
    "    print(f\"pivot : {pivot}, letters[pivot] : {letters[pivot]}\")\n",
    "    rightmost_successor = len(letters) - 1\n",
    "    while letters[rightmost_successor] <= letters[pivot]:\n",
    "        rightmost_successor -= 1\n",
    "\n",
    "    # swap\n",
    "    letters[pivot], letters[rightmost_successor] = letters[rightmost_successor], letters[pivot]\n",
    "\n",
    "    # reverse\n",
    "    letters[pivot + 1:] = reversed(letters[pivot + 1:])\n",
    "    return \"\".join(letters)"
   ]
  },
  {
   "cell_type": "code",
   "execution_count": 25,
   "metadata": {},
   "outputs": [
    {
     "name": "stdout",
     "output_type": "stream",
     "text": [
      "letters : ['a', 'b', 'c', 'd', 'e']\n",
      "pivot : 3, letters[pivot] : d\n"
     ]
    },
    {
     "data": {
      "text/plain": [
       "'abced'"
      ]
     },
     "execution_count": 25,
     "metadata": {},
     "output_type": "execute_result"
    }
   ],
   "source": [
    "next_lexicographical_sequence(\"abcde\") # Expected \"abced\""
   ]
  },
  {
   "cell_type": "code",
   "execution_count": 34,
   "metadata": {},
   "outputs": [
    {
     "data": {
      "text/plain": [
       "[1, 2, 3, 4]"
      ]
     },
     "execution_count": 34,
     "metadata": {},
     "output_type": "execute_result"
    }
   ],
   "source": [
    "a = [1,2,3,4]\n",
    "b = 2\n",
    "a[b + 1:] = reversed(a[b + 1:])\n",
    "a"
   ]
  },
  {
   "cell_type": "code",
   "execution_count": null,
   "metadata": {},
   "outputs": [],
   "source": []
  },
  {
   "cell_type": "code",
   "execution_count": null,
   "metadata": {},
   "outputs": [],
   "source": []
  }
 ],
 "metadata": {
  "kernelspec": {
   "display_name": ".venv",
   "language": "python",
   "name": "python3"
  },
  "language_info": {
   "codemirror_mode": {
    "name": "ipython",
    "version": 3
   },
   "file_extension": ".py",
   "mimetype": "text/x-python",
   "name": "python",
   "nbconvert_exporter": "python",
   "pygments_lexer": "ipython3",
   "version": "3.13.1"
  }
 },
 "nbformat": 4,
 "nbformat_minor": 2
}
