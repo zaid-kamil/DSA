{
 "cells": [
  {
   "cell_type": "code",
   "execution_count": 10,
   "metadata": {},
   "outputs": [],
   "source": [
    "# cool technique to count frequency of alphabets\n",
    "expected_freq = [0] * 26\n",
    "t = \"abaababaczzzzzzzz\"\n",
    "for c in t:\n",
    "    expected_freq[ord(c) - ord('a')] += 1"
   ]
  },
  {
   "cell_type": "code",
   "execution_count": 22,
   "metadata": {},
   "outputs": [],
   "source": [
    "def substring_anagram(s: str, t:str) -> int:\n",
    "    len_s = len(s)\n",
    "    len_t = len(t)\n",
    "    if len_t > len_s:\n",
    "        return 0\n",
    "    count = 0\n",
    "    expected_freq = [0] * 26\n",
    "    window_freq = [0] * 26\n",
    "    for c in t:\n",
    "        expected_freq[ord(c) - ord('a')] += 1\n",
    "    print(expected_freq)\n",
    "    left = right = 0\n",
    "    while right < len_s:\n",
    "        window_freq[ord(s[right]) - ord('a')] += 1\n",
    "        if right - left + 1  == len_t:\n",
    "            print(f'{expected_freq == window_freq}')\n",
    "            if window_freq == expected_freq:\n",
    "                count += 1\n",
    "            window_freq[ord(s[left]) - ord('a')] -= 1 \n",
    "            left += 1\n",
    "        right += 1\n",
    "    return count"
   ]
  },
  {
   "cell_type": "code",
   "execution_count": 26,
   "metadata": {},
   "outputs": [
    {
     "name": "stdout",
     "output_type": "stream",
     "text": [
      "[2, 1, 0, 0, 0, 0, 0, 0, 0, 0, 0, 0, 0, 0, 0, 0, 0, 0, 0, 0, 0, 0, 0, 0, 0, 0]\n",
      "True\n"
     ]
    },
    {
     "data": {
      "text/plain": [
       "1"
      ]
     },
     "execution_count": 26,
     "metadata": {},
     "output_type": "execute_result"
    }
   ],
   "source": [
    "substring_anagram(\"aba\", \"aba\")"
   ]
  },
  {
   "cell_type": "code",
   "execution_count": 31,
   "metadata": {},
   "outputs": [
    {
     "data": {
      "text/plain": [
       "True"
      ]
     },
     "execution_count": 31,
     "metadata": {},
     "output_type": "execute_result"
    }
   ],
   "source": [
    "not any([0,0,0,])"
   ]
  },
  {
   "cell_type": "code",
   "execution_count": null,
   "metadata": {},
   "outputs": [],
   "source": []
  }
 ],
 "metadata": {
  "kernelspec": {
   "display_name": ".venv",
   "language": "python",
   "name": "python3"
  },
  "language_info": {
   "codemirror_mode": {
    "name": "ipython",
    "version": 3
   },
   "file_extension": ".py",
   "mimetype": "text/x-python",
   "name": "python",
   "nbconvert_exporter": "python",
   "pygments_lexer": "ipython3",
   "version": "3.13.1"
  }
 },
 "nbformat": 4,
 "nbformat_minor": 2
}
