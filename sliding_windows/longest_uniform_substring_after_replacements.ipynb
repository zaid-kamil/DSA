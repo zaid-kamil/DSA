{
 "cells": [
  {
   "cell_type": "code",
   "execution_count": 1,
   "metadata": {},
   "outputs": [],
   "source": [
    "def longest_uniform_substring_after_replacements(s: str, k: int) -> int:\n",
    "    freq = {}\n",
    "    highest_freq = max_length = 0\n",
    "    left = right = 0\n",
    "    while right < len(s):\n",
    "        freq[s[right]] = freq.get(s[right], 0) + 1\n",
    "        highest_freq = max(highest_freq, freq[s[right]])\n",
    "        num_char_to_replace = (right - left + 1) - highest_freq\n",
    "        if num_char_to_replace > k:\n",
    "            freq[s[left]] -= 1\n",
    "            left += 1\n",
    "        max_length = right - left + 1\n",
    "        right += 1\n",
    "    return max_length"
   ]
  },
  {
   "cell_type": "code",
   "execution_count": 5,
   "metadata": {},
   "outputs": [
    {
     "name": "stdout",
     "output_type": "stream",
     "text": [
      "5\n",
      "4\n",
      "2\n"
     ]
    }
   ],
   "source": [
    "# test 1\n",
    "s = \"aabccbb\"\n",
    "k = 2\n",
    "print(longest_uniform_substring_after_replacements(s, k)) # 5\n",
    "\n",
    "# test 2\n",
    "s = \"abbcb\"\n",
    "k = 1\n",
    "print(longest_uniform_substring_after_replacements(s, k)) # 4\n",
    "\n",
    "# test 3\n",
    "s = \"abe\"\n",
    "k = 1\n",
    "print(longest_uniform_substring_after_replacements(s, k)) # 3"
   ]
  },
  {
   "cell_type": "code",
   "execution_count": null,
   "metadata": {},
   "outputs": [],
   "source": []
  }
 ],
 "metadata": {
  "kernelspec": {
   "display_name": ".venv",
   "language": "python",
   "name": "python3"
  },
  "language_info": {
   "codemirror_mode": {
    "name": "ipython",
    "version": 3
   },
   "file_extension": ".py",
   "mimetype": "text/x-python",
   "name": "python",
   "nbconvert_exporter": "python",
   "pygments_lexer": "ipython3",
   "version": "3.13.1"
  }
 },
 "nbformat": 4,
 "nbformat_minor": 2
}
