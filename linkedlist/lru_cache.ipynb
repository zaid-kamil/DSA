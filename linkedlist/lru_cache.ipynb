{
 "cells": [
  {
   "cell_type": "code",
   "execution_count": 9,
   "metadata": {},
   "outputs": [],
   "source": [
    "class LRUCache:\n",
    "    class Node:\n",
    "        def __init__(self, key:int, val:int):\n",
    "            self.key = key\n",
    "            self.val = val\n",
    "            self.next = self.prev = None\n",
    "            \n",
    "    def __init__(self, capacity: int):\n",
    "        self.capacity = capacity\n",
    "        self.hashmap = {}\n",
    "        self.head = self.Node(-1,-1)\n",
    "        self.tail = self.Node(-1, -1)\n",
    "        self.head.next = self.tail\n",
    "        self.tail.prev = self.head\n",
    "    \n",
    "    def addToTail(self, node) -> None:\n",
    "            prev_node = self.tail.prev\n",
    "            node.prev = prev_node\n",
    "            node.next = self.tail\n",
    "            prev_node.next = node\n",
    "            self.tail.prev = node\n",
    "\n",
    "    def removeNode(self, node) -> None:\n",
    "        node.prev.next = node.next\n",
    "        node.next.prev = node.prev\n",
    "    \n",
    "    def get(self, key: int) -> int:\n",
    "        if key not in self.hashmap:\n",
    "            return -1\n",
    "        self.removeNode(self.hashmap[key])\n",
    "        self.addToTail(self.hashmap[key])\n",
    "        return self.hashmap[key].val\n",
    "    \n",
    "    def put(self, key: int, value: int) -> None:\n",
    "        if key in self.hashmap:\n",
    "            self.removeNode(self.hashmap[key])\n",
    "        node = self.Node(key, value)\n",
    "        self.hashmap[key] = node\n",
    "        if len(self.hashmap) > self.capacity:\n",
    "            del self.hashmap[self.head.next.key]\n",
    "            self.removeNode(self.head.next)\n",
    "            \n",
    "        self.addToTail(node)\n",
    "        \n",
    "# Your LRUCache object will be instantiated and called as such:\n",
    "# obj = LRUCache(capacity)\n",
    "# param_1 = obj.get(key)\n",
    "# obj.put(key,value)"
   ]
  },
  {
   "cell_type": "code",
   "execution_count": 10,
   "metadata": {},
   "outputs": [
    {
     "name": "stdout",
     "output_type": "stream",
     "text": [
      "1\n"
     ]
    }
   ],
   "source": [
    "obj = LRUCache(2)\n",
    "obj.put(1,1)\n",
    "obj.put(2,2)\n",
    "print(obj.get(1))\n"
   ]
  },
  {
   "cell_type": "code",
   "execution_count": null,
   "metadata": {},
   "outputs": [],
   "source": []
  }
 ],
 "metadata": {
  "kernelspec": {
   "display_name": ".venv",
   "language": "python",
   "name": "python3"
  },
  "language_info": {
   "codemirror_mode": {
    "name": "ipython",
    "version": 3
   },
   "file_extension": ".py",
   "mimetype": "text/x-python",
   "name": "python",
   "nbconvert_exporter": "python",
   "pygments_lexer": "ipython3",
   "version": "3.13.1"
  }
 },
 "nbformat": 4,
 "nbformat_minor": 2
}
