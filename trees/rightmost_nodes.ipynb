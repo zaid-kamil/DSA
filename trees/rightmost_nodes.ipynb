{
 "cells": [
  {
   "cell_type": "code",
   "execution_count": 1,
   "metadata": {},
   "outputs": [],
   "source": [
    "class TreeNode:\n",
    "    def __init__(self, v=0, left=None, right=None):\n",
    "        self.val = v\n",
    "        self.left = left\n",
    "        self.right = right\n",
    "    \n",
    "    def __repr__(self):\n",
    "        return f\"Node[{self.val}]\""
   ]
  },
  {
   "cell_type": "code",
   "execution_count": 3,
   "metadata": {},
   "outputs": [],
   "source": [
    "tree1 = TreeNode(1)\n",
    "tree1.left = TreeNode(2)\n",
    "tree1.right = TreeNode(3)\n",
    "tree1.left.left = TreeNode(4)\n",
    "tree1.right.left = TreeNode(6)\n",
    "tree1.right.right = TreeNode(7)\n",
    "tree1.left.left.left = TreeNode(8)\n",
    "tree1.right.left.left = TreeNode(12)\n",
    "tree1.right.left.right = TreeNode(13)\n",
    "tree1.right.right.left = TreeNode(14)"
   ]
  },
  {
   "cell_type": "code",
   "execution_count": 4,
   "metadata": {},
   "outputs": [],
   "source": [
    "from collections import deque\n",
    "def rightmost_nodes(root: TreeNode):\n",
    "    if not root: return []\n",
    "    res = []\n",
    "    queue = deque([root])\n",
    "    while queue:\n",
    "        level = len(queue)\n",
    "        for i in range(level):\n",
    "            print(i, level, queue)\n",
    "            node = queue.popleft()\n",
    "            if node.left: queue.append(node.left)\n",
    "            if node.right: queue.append(node.right)\n",
    "            if i == level - 1:\n",
    "                print(\"added\")\n",
    "                res.append(node.val)\n",
    "    return res"
   ]
  },
  {
   "cell_type": "code",
   "execution_count": 5,
   "metadata": {},
   "outputs": [
    {
     "name": "stdout",
     "output_type": "stream",
     "text": [
      "0 1 deque([Node[1]])\n",
      "added\n",
      "0 2 deque([Node[2], Node[3]])\n",
      "1 2 deque([Node[3], Node[4]])\n",
      "added\n",
      "0 3 deque([Node[4], Node[6], Node[7]])\n",
      "1 3 deque([Node[6], Node[7], Node[8]])\n",
      "2 3 deque([Node[7], Node[8], Node[12], Node[13]])\n",
      "added\n",
      "0 4 deque([Node[8], Node[12], Node[13], Node[14]])\n",
      "1 4 deque([Node[12], Node[13], Node[14]])\n",
      "2 4 deque([Node[13], Node[14]])\n",
      "3 4 deque([Node[14]])\n",
      "added\n",
      "[1, 3, 7, 14]\n"
     ]
    }
   ],
   "source": [
    "print(rightmost_nodes(tree1)) # [1, 3, 7, 15]"
   ]
  },
  {
   "cell_type": "code",
   "execution_count": null,
   "metadata": {},
   "outputs": [],
   "source": []
  },
  {
   "cell_type": "code",
   "execution_count": null,
   "metadata": {},
   "outputs": [],
   "source": []
  }
 ],
 "metadata": {
  "kernelspec": {
   "display_name": ".venv",
   "language": "python",
   "name": "python3"
  },
  "language_info": {
   "codemirror_mode": {
    "name": "ipython",
    "version": 3
   },
   "file_extension": ".py",
   "mimetype": "text/x-python",
   "name": "python",
   "nbconvert_exporter": "python",
   "pygments_lexer": "ipython3",
   "version": "3.13.1"
  }
 },
 "nbformat": 4,
 "nbformat_minor": 2
}
