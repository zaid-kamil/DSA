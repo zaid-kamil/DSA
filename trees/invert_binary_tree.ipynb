{
 "cells": [
  {
   "cell_type": "code",
   "execution_count": 45,
   "metadata": {},
   "outputs": [],
   "source": [
    "from collections import deque\n",
    "class TreeNode:\n",
    "    def __init__(self, v=0, left=None, right=None):\n",
    "        self.val = v\n",
    "        self.left = left\n",
    "        self.right = right\n",
    "    \n",
    "    def dfs(self):\n",
    "        if self is None: return\n",
    "        print(self.val, end=' ')\n",
    "        if self.left: self.left.dfs()\n",
    "        if self.right: self.right.dfs()\n",
    "    \n",
    "    def bfs(self):\n",
    "        if self is None: return\n",
    "        queue = deque([self])\n",
    "        while queue:\n",
    "            node = queue.popleft()\n",
    "            print(node.val, end=' ')\n",
    "            if node.left: queue.append(node.left)\n",
    "            if node.right: queue.append(node.right)"
   ]
  },
  {
   "cell_type": "code",
   "execution_count": 46,
   "metadata": {},
   "outputs": [],
   "source": [
    "tree1 = TreeNode(1)\n",
    "tree1.left = TreeNode(2)\n",
    "tree1.right = TreeNode(3)\n",
    "tree1.left.left = TreeNode(4)\n",
    "tree1.left.right = TreeNode(5)\n",
    "tree1.right.left = TreeNode(6)\n",
    "tree1.right.right = TreeNode(7)\n",
    "tree1.left.left.left = TreeNode(8)\n",
    "tree1.left.left.right = TreeNode(9)\n",
    "tree1.left.right.left = TreeNode(10)\n",
    "tree1.left.right.right = TreeNode(11)\n",
    "tree1.right.left.left = TreeNode(12)\n",
    "tree1.right.left.right = TreeNode(13)\n",
    "tree1.right.right.left = TreeNode(14)\n",
    "tree1.right.right.right = TreeNode(15)"
   ]
  },
  {
   "cell_type": "code",
   "execution_count": 47,
   "metadata": {},
   "outputs": [],
   "source": [
    "def invert_binary_tree(root: TreeNode) -> TreeNode:\n",
    "    if not root:return None\n",
    "    root.left, root.right = root.right, root.left\n",
    "    invert_binary_tree(root.left)\n",
    "    invert_binary_tree(root.right)\n",
    "    return root\n",
    "\n",
    "def invert_binary_tree_using_stack(root: TreeNode) -> TreeNode:\n",
    "    if not root: return None\n",
    "    stack = [root]\n",
    "    root.left, root.right = root.right, root.left\n",
    "    if root.left: stack.append(root.left)\n",
    "    if root.right: stack.append(root.right)\n",
    "    return root"
   ]
  },
  {
   "cell_type": "code",
   "execution_count": 48,
   "metadata": {},
   "outputs": [
    {
     "name": "stdout",
     "output_type": "stream",
     "text": [
      "1 2 4 8 9 5 10 11 3 6 12 13 7 14 15 "
     ]
    }
   ],
   "source": [
    "tree1.dfs()"
   ]
  },
  {
   "cell_type": "code",
   "execution_count": 49,
   "metadata": {},
   "outputs": [
    {
     "name": "stdout",
     "output_type": "stream",
     "text": [
      "1 3 6 12 13 7 14 15 2 4 8 9 5 10 11 "
     ]
    }
   ],
   "source": [
    "invert_binary_tree_using_stack(tree1).dfs()"
   ]
  },
  {
   "cell_type": "code",
   "execution_count": 50,
   "metadata": {},
   "outputs": [
    {
     "name": "stdout",
     "output_type": "stream",
     "text": [
      "1 2 5 11 10 4 9 8 3 7 15 14 6 13 12 "
     ]
    }
   ],
   "source": [
    "invert_binary_tree(tree1).dfs() "
   ]
  },
  {
   "cell_type": "code",
   "execution_count": 51,
   "metadata": {},
   "outputs": [
    {
     "name": "stdout",
     "output_type": "stream",
     "text": [
      "1 3 2 6 7 4 5 12 13 14 15 8 9 10 11 "
     ]
    }
   ],
   "source": [
    "invert_binary_tree(tree1).bfs()"
   ]
  },
  {
   "cell_type": "code",
   "execution_count": null,
   "metadata": {},
   "outputs": [],
   "source": []
  }
 ],
 "metadata": {
  "kernelspec": {
   "display_name": ".venv",
   "language": "python",
   "name": "python3"
  },
  "language_info": {
   "codemirror_mode": {
    "name": "ipython",
    "version": 3
   },
   "file_extension": ".py",
   "mimetype": "text/x-python",
   "name": "python",
   "nbconvert_exporter": "python",
   "pygments_lexer": "ipython3",
   "version": "3.13.1"
  }
 },
 "nbformat": 4,
 "nbformat_minor": 2
}
