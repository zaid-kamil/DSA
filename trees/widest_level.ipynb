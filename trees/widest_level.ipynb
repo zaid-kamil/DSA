{
 "cells": [
  {
   "cell_type": "code",
   "execution_count": 1,
   "metadata": {},
   "outputs": [],
   "source": [
    "class TreeNode:\n",
    "    def __init__(self, val):\n",
    "        self.val = val\n",
    "        self.left = None\n",
    "        self.right = None"
   ]
  },
  {
   "cell_type": "code",
   "execution_count": 2,
   "metadata": {},
   "outputs": [],
   "source": [
    "tree1 = TreeNode(1)\n",
    "tree1.left = TreeNode(2)\n",
    "tree1.right = TreeNode(3)\n",
    "tree1.left.left = TreeNode(4)\n",
    "tree1.left.right = TreeNode(5)\n",
    "tree1.right.left = TreeNode(6)\n",
    "tree1.right.right = TreeNode(7)\n",
    "tree1.left.left.left = TreeNode(8)\n",
    "tree1.left.left.right = TreeNode(9)\n",
    "tree1.left.right.left = TreeNode(10)\n",
    "tree1.left.right.right = TreeNode(11)\n",
    "tree1.right.left.left = TreeNode(12)\n",
    "tree1.right.left.right = TreeNode(13)\n",
    "tree1.right.right.left = TreeNode(14)\n",
    "tree1.right.right.right = TreeNode(15)"
   ]
  },
  {
   "cell_type": "code",
   "execution_count": null,
   "metadata": {},
   "outputs": [],
   "source": [
    "from collections import deque\n",
    "def widest_binary_tree_level(root: TreeNode) -> int:\n",
    "    if not root:\n",
    "        return 0\n",
    "    maxWidth = 0\n",
    "    queue = deque([(root, 0)])\n",
    "    while queue:\n",
    "        levelSize = len(queue)\n",
    "        leftMostIndex = queue[0][1]\n",
    "        rightMostIndex = leftMostIndex\n",
    "        for _ in range(levelSize):\n",
    "            node, i = queue.popleft()\n",
    "            if node.left:\n",
    "                queue.append((node.left, 2*i + 1))\n",
    "            if node.right:\n",
    "                queue.append((node.right,2*i + 2))\n",
    "            rightMostIndex = i\n",
    "        maxWidth = max(maxWidth, rightMostIndex - leftMostIndex + 1)\n",
    "    return maxWidth"
   ]
  },
  {
   "cell_type": "code",
   "execution_count": 5,
   "metadata": {},
   "outputs": [
    {
     "name": "stdout",
     "output_type": "stream",
     "text": [
      "8\n"
     ]
    }
   ],
   "source": [
    "print(widest_binary_tree_level(tree1))"
   ]
  },
  {
   "cell_type": "code",
   "execution_count": null,
   "metadata": {},
   "outputs": [],
   "source": []
  }
 ],
 "metadata": {
  "kernelspec": {
   "display_name": ".venv",
   "language": "python",
   "name": "python3"
  },
  "language_info": {
   "codemirror_mode": {
    "name": "ipython",
    "version": 3
   },
   "file_extension": ".py",
   "mimetype": "text/x-python",
   "name": "python",
   "nbconvert_exporter": "python",
   "pygments_lexer": "ipython3",
   "version": "3.13.1"
  }
 },
 "nbformat": 4,
 "nbformat_minor": 2
}
