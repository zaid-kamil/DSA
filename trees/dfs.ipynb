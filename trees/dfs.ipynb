{
 "cells": [
  {
   "cell_type": "code",
   "execution_count": 7,
   "metadata": {},
   "outputs": [],
   "source": [
    "class TreeNode:\n",
    "    def __init__(self, val=0, left=None, right=None):\n",
    "        self.val = val\n",
    "        self.left = left\n",
    "        self.right = right"
   ]
  },
  {
   "cell_type": "code",
   "execution_count": 8,
   "metadata": {},
   "outputs": [],
   "source": [
    "tree1 = TreeNode(1)\n",
    "tree1.left = TreeNode(2)\n",
    "tree1.right = TreeNode(3)\n",
    "tree1.left.left = TreeNode(4)\n",
    "tree1.left.right = TreeNode(5)\n",
    "tree1.right.left = TreeNode(6)\n",
    "tree1.right.right = TreeNode(7)\n",
    "tree1.left.left.left = TreeNode(8)\n",
    "tree1.left.left.right = TreeNode(9)\n",
    "tree1.left.right.left = TreeNode(10)\n",
    "tree1.left.right.right = TreeNode(11)\n",
    "tree1.right.left.left = TreeNode(12)\n",
    "tree1.right.left.right = TreeNode(13)\n",
    "tree1.right.right.left = TreeNode(14)\n",
    "tree1.right.right.right = TreeNode(15)"
   ]
  },
  {
   "cell_type": "code",
   "execution_count": 9,
   "metadata": {},
   "outputs": [
    {
     "name": "stdout",
     "output_type": "stream",
     "text": [
      "Preorder\n",
      "1 2 4 8 9 5 10 11 3 6 12 13 7 14 15 \n",
      "Inorder\n",
      "8 4 9 2 10 5 11 1 12 6 13 3 14 7 15 \n",
      "Postorder\n",
      "8 9 4 10 11 5 2 12 13 6 14 15 7 3 1 "
     ]
    }
   ],
   "source": [
    "def preorder(node: TreeNode):\n",
    "    if not node: return\n",
    "    print(node.val, end=' ')\n",
    "    preorder(node.left)\n",
    "    preorder(node.right)\n",
    "\n",
    "def inorder(node: TreeNode):\n",
    "    if not node: return\n",
    "    inorder(node.left)\n",
    "    print(node.val, end=' ')\n",
    "    inorder(node.right)\n",
    "\n",
    "def postorder(node: TreeNode):\n",
    "    if not node:return\n",
    "    postorder(node.left)\n",
    "    postorder(node.right)\n",
    "    print(node.val, end=' ')\n",
    "\n",
    "print(\"Preorder\")       \n",
    "preorder(tree1)\n",
    "print(\"\\nInorder\")\n",
    "inorder(tree1)\n",
    "print(\"\\nPostorder\")\n",
    "postorder(tree1)"
   ]
  },
  {
   "cell_type": "code",
   "execution_count": null,
   "metadata": {},
   "outputs": [],
   "source": []
  }
 ],
 "metadata": {
  "kernelspec": {
   "display_name": ".venv",
   "language": "python",
   "name": "python3"
  },
  "language_info": {
   "codemirror_mode": {
    "name": "ipython",
    "version": 3
   },
   "file_extension": ".py",
   "mimetype": "text/x-python",
   "name": "python",
   "nbconvert_exporter": "python",
   "pygments_lexer": "ipython3",
   "version": "3.13.1"
  }
 },
 "nbformat": 4,
 "nbformat_minor": 2
}
