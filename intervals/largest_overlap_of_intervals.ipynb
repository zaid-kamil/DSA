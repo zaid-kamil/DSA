{
 "cells": [
  {
   "cell_type": "code",
   "execution_count": 1,
   "metadata": {},
   "outputs": [],
   "source": [
    "class Interval:\n",
    "    def __init__(self, s, e):\n",
    "        self.start = s\n",
    "        self.end = e"
   ]
  },
  {
   "cell_type": "code",
   "execution_count": 20,
   "metadata": {},
   "outputs": [],
   "source": [
    "from typing import List\n",
    "\n",
    "def largest_overlap_of_intervals(intervals: List[Interval]) -> int:\n",
    "    points = []\n",
    "    for interval in intervals:\n",
    "        points.append((interval.start, 'S'))\n",
    "        points.append((interval.end, 'E'))\n",
    "    points.sort(key=lambda x: (x[0], x[1]))\n",
    "    active_intervals = 0\n",
    "    max_overlap = 0\n",
    "    for time, point_type in points:\n",
    "        if point_type == 'S':\n",
    "            active_intervals += 1\n",
    "        else:\n",
    "            active_intervals -= 1\n",
    "        max_overlap = max(max_overlap, active_intervals)\n",
    "    return max_overlap"
   ]
  },
  {
   "cell_type": "code",
   "execution_count": 23,
   "metadata": {},
   "outputs": [
    {
     "name": "stdout",
     "output_type": "stream",
     "text": [
      "3\n"
     ]
    }
   ],
   "source": [
    "data = [Interval(1, 4), Interval(3, 4), Interval(5, 5), Interval(5, 6), Interval(3, 7)]\n",
    "print(largest_overlap_of_intervals(data)) # 3"
   ]
  },
  {
   "cell_type": "code",
   "execution_count": 62,
   "metadata": {},
   "outputs": [],
   "source": [
    "import matplotlib.pyplot as plt\n",
    "def visualize_largest_overlap_of_intervals(intervals: List[Interval]) -> plt.figure:    \n",
    "    for i in range(len(intervals)):\n",
    "        plt.plot([intervals[i].start, intervals[i].end], [i, i], 'b', linewidth=10, alpha=0.5)\n",
    "    plt.xlabel('Time')\n",
    "    plt.xlim(0, max([interval.end for interval in intervals]) + 1)\n",
    "    plt.ylim(-1, len(intervals)+1)\n",
    "    # remove spline\n",
    "    plt.gca().spines['top'].set_visible(False)\n",
    "    plt.gca().spines['right'].set_visible(False)\n",
    "    plt.gca().spines['left'].set_visible(False)\n",
    "    plt.gca().spines['bottom'].set_visible(False)\n",
    "    # hide y ticks\n",
    "    plt.yticks([])\n",
    "    return plt"
   ]
  },
  {
   "cell_type": "code",
   "execution_count": 63,
   "metadata": {},
   "outputs": [
    {
     "data": {
      "image/png": "[encoded data removed]",
      "text/plain": [
       "<Figure size 640x480 with 1 Axes>"
      ]
     },
     "metadata": {},
     "output_type": "display_data"
    }
   ],
   "source": [
    "data =  [Interval(1, 5), Interval(4, 5), Interval(3, 2), Interval(4, 6), Interval(6, 7)]  \n",
    "visualize_largest_overlap_of_intervals(data).show()"
   ]
  },
  {
   "cell_type": "code",
   "execution_count": 47,
   "metadata": {},
   "outputs": [
    {
     "data": {
      "text/plain": [
       "3"
      ]
     },
     "execution_count": 47,
     "metadata": {},
     "output_type": "execute_result"
    }
   ],
   "source": [
    "largest_overlap_of_intervals(data)"
   ]
  },
  {
   "cell_type": "code",
   "execution_count": null,
   "metadata": {},
   "outputs": [],
   "source": []
  },
  {
   "cell_type": "code",
   "execution_count": null,
   "metadata": {},
   "outputs": [],
   "source": []
  }
 ],
 "metadata": {
  "kernelspec": {
   "display_name": ".venv",
   "language": "python",
   "name": "python3"
  },
  "language_info": {
   "codemirror_mode": {
    "name": "ipython",
    "version": 3
   },
   "file_extension": ".py",
   "mimetype": "text/x-python",
   "name": "python",
   "nbconvert_exporter": "python",
   "pygments_lexer": "ipython3",
   "version": "3.13.1"
  }
 },
 "nbformat": 4,
 "nbformat_minor": 2
}
